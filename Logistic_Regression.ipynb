{
  "nbformat": 4,
  "nbformat_minor": 0,
  "metadata": {
    "colab": {
      "name": "Clustering-Kmeans.ipynb",
      "provenance": [],
      "collapsed_sections": [],
      "include_colab_link": true
    },
    "kernelspec": {
      "name": "python3",
      "display_name": "Python 3"
    },
    "language_info": {
      "name": "python"
    }
  },
  "cells": [
    {
      "cell_type": "markdown",
      "metadata": {
        "id": "view-in-github",
        "colab_type": "text"
      },
      "source": [
        "<a href=\"https://colab.research.google.com/github/Sagacious007/BIG-data-assessment/blob/main/Logistic_Regression.ipynb\" target=\"_parent\"><img src=\"https://colab.research.google.com/assets/colab-badge.svg\" alt=\"Open In Colab\"/></a>"
      ]
    },
    {
      "cell_type": "markdown",
      "source": [
        "Setting up PySpark in Colab"
      ],
      "metadata": {
        "id": "t0etjiEZSs0E"
      }
    },
    {
      "cell_type": "code",
      "execution_count": 1,
      "metadata": {
        "colab": {
          "base_uri": "https://localhost:8080/"
        },
        "id": "6-pmrvHUSl_J",
        "outputId": "ed7ccddf-9386-4ecd-c389-61e42b9963cb"
      },
      "outputs": [
        {
          "output_type": "stream",
          "name": "stdout",
          "text": [
            "Reading package lists... Done\n",
            "Building dependency tree       \n",
            "Reading state information... Done\n",
            "The following package was automatically installed and is no longer required:\n",
            "  libnvidia-common-460\n",
            "Use 'apt autoremove' to remove it.\n",
            "The following additional packages will be installed:\n",
            "  openjdk-8-jre-headless\n",
            "Suggested packages:\n",
            "  openjdk-8-demo openjdk-8-source libnss-mdns fonts-dejavu-extra\n",
            "  fonts-ipafont-gothic fonts-ipafont-mincho fonts-wqy-microhei\n",
            "  fonts-wqy-zenhei fonts-indic\n",
            "The following NEW packages will be installed:\n",
            "  openjdk-8-jdk-headless openjdk-8-jre-headless\n",
            "0 upgraded, 2 newly installed, 0 to remove and 42 not upgraded.\n",
            "Need to get 36.5 MB of archives.\n",
            "After this operation, 143 MB of additional disk space will be used.\n",
            "Get:1 http://archive.ubuntu.com/ubuntu bionic-updates/universe amd64 openjdk-8-jre-headless amd64 8u312-b07-0ubuntu1~18.04 [28.2 MB]\n",
            "Get:2 http://archive.ubuntu.com/ubuntu bionic-updates/universe amd64 openjdk-8-jdk-headless amd64 8u312-b07-0ubuntu1~18.04 [8,298 kB]\n",
            "Fetched 36.5 MB in 2s (18.7 MB/s)\n",
            "Selecting previously unselected package openjdk-8-jre-headless:amd64.\n",
            "(Reading database ... 155629 files and directories currently installed.)\n",
            "Preparing to unpack .../openjdk-8-jre-headless_8u312-b07-0ubuntu1~18.04_amd64.deb ...\n",
            "Unpacking openjdk-8-jre-headless:amd64 (8u312-b07-0ubuntu1~18.04) ...\n",
            "Selecting previously unselected package openjdk-8-jdk-headless:amd64.\n",
            "Preparing to unpack .../openjdk-8-jdk-headless_8u312-b07-0ubuntu1~18.04_amd64.deb ...\n",
            "Unpacking openjdk-8-jdk-headless:amd64 (8u312-b07-0ubuntu1~18.04) ...\n",
            "Setting up openjdk-8-jre-headless:amd64 (8u312-b07-0ubuntu1~18.04) ...\n",
            "update-alternatives: using /usr/lib/jvm/java-8-openjdk-amd64/jre/bin/orbd to provide /usr/bin/orbd (orbd) in auto mode\n",
            "update-alternatives: using /usr/lib/jvm/java-8-openjdk-amd64/jre/bin/servertool to provide /usr/bin/servertool (servertool) in auto mode\n",
            "update-alternatives: using /usr/lib/jvm/java-8-openjdk-amd64/jre/bin/tnameserv to provide /usr/bin/tnameserv (tnameserv) in auto mode\n",
            "Setting up openjdk-8-jdk-headless:amd64 (8u312-b07-0ubuntu1~18.04) ...\n",
            "update-alternatives: using /usr/lib/jvm/java-8-openjdk-amd64/bin/idlj to provide /usr/bin/idlj (idlj) in auto mode\n",
            "update-alternatives: using /usr/lib/jvm/java-8-openjdk-amd64/bin/wsimport to provide /usr/bin/wsimport (wsimport) in auto mode\n",
            "update-alternatives: using /usr/lib/jvm/java-8-openjdk-amd64/bin/jsadebugd to provide /usr/bin/jsadebugd (jsadebugd) in auto mode\n",
            "update-alternatives: using /usr/lib/jvm/java-8-openjdk-amd64/bin/native2ascii to provide /usr/bin/native2ascii (native2ascii) in auto mode\n",
            "update-alternatives: using /usr/lib/jvm/java-8-openjdk-amd64/bin/javah to provide /usr/bin/javah (javah) in auto mode\n",
            "update-alternatives: using /usr/lib/jvm/java-8-openjdk-amd64/bin/hsdb to provide /usr/bin/hsdb (hsdb) in auto mode\n",
            "update-alternatives: using /usr/lib/jvm/java-8-openjdk-amd64/bin/clhsdb to provide /usr/bin/clhsdb (clhsdb) in auto mode\n",
            "update-alternatives: using /usr/lib/jvm/java-8-openjdk-amd64/bin/xjc to provide /usr/bin/xjc (xjc) in auto mode\n",
            "update-alternatives: using /usr/lib/jvm/java-8-openjdk-amd64/bin/schemagen to provide /usr/bin/schemagen (schemagen) in auto mode\n",
            "update-alternatives: using /usr/lib/jvm/java-8-openjdk-amd64/bin/extcheck to provide /usr/bin/extcheck (extcheck) in auto mode\n",
            "update-alternatives: using /usr/lib/jvm/java-8-openjdk-amd64/bin/jhat to provide /usr/bin/jhat (jhat) in auto mode\n",
            "update-alternatives: using /usr/lib/jvm/java-8-openjdk-amd64/bin/wsgen to provide /usr/bin/wsgen (wsgen) in auto mode\n"
          ]
        }
      ],
      "source": [
        "\n",
        "!apt-get install openjdk-8-jdk-headless"
      ]
    },
    {
      "cell_type": "code",
      "source": [
        "!wget https://archive.apache.org/dist/spark/spark-3.2.1/spark-3.2.1-bin-hadoop2.7.tgz\n",
        "!tar xf /content/spark-3.2.1-bin-hadoop2.7.tgz\n",
        "!pip install -q findspark"
      ],
      "metadata": {
        "colab": {
          "base_uri": "https://localhost:8080/"
        },
        "id": "RtSDB9c6Syry",
        "outputId": "1203ed1e-f370-4217-a95b-73d5018fcd71"
      },
      "execution_count": 2,
      "outputs": [
        {
          "output_type": "stream",
          "name": "stdout",
          "text": [
            "--2022-05-19 22:51:36--  https://archive.apache.org/dist/spark/spark-3.2.1/spark-3.2.1-bin-hadoop2.7.tgz\n",
            "Resolving archive.apache.org (archive.apache.org)... 138.201.131.134, 2a01:4f8:172:2ec5::2\n",
            "Connecting to archive.apache.org (archive.apache.org)|138.201.131.134|:443... connected.\n",
            "HTTP request sent, awaiting response... 200 OK\n",
            "Length: 272637746 (260M) [application/x-gzip]\n",
            "Saving to: ‘spark-3.2.1-bin-hadoop2.7.tgz’\n",
            "\n",
            "spark-3.2.1-bin-had 100%[===================>] 260.01M  20.6MB/s    in 14s     \n",
            "\n",
            "2022-05-19 22:51:50 (19.0 MB/s) - ‘spark-3.2.1-bin-hadoop2.7.tgz’ saved [272637746/272637746]\n",
            "\n"
          ]
        }
      ]
    },
    {
      "cell_type": "code",
      "source": [
        "import os\n",
        "os.environ[\"JAVA_HOME\"] = \"/usr/lib/jvm/java-8-openjdk-amd64\"\n",
        "os.environ[\"SPARK_HOME\"] = \"/content/spark-3.2.1-bin-hadoop2.7\""
      ],
      "metadata": {
        "id": "-xka_YLrTZGM"
      },
      "execution_count": 3,
      "outputs": []
    },
    {
      "cell_type": "code",
      "source": [
        "import findspark\n",
        "findspark.init()\n",
        "findspark.find()"
      ],
      "metadata": {
        "colab": {
          "base_uri": "https://localhost:8080/",
          "height": 37
        },
        "id": "7OYiGkkkTf1I",
        "outputId": "76d47763-e4e7-44a7-8ec3-72a002dece4a"
      },
      "execution_count": 4,
      "outputs": [
        {
          "output_type": "execute_result",
          "data": {
            "text/plain": [
              "'/content/spark-3.2.1-bin-hadoop2.7'"
            ],
            "application/vnd.google.colaboratory.intrinsic+json": {
              "type": "string"
            }
          },
          "metadata": {},
          "execution_count": 4
        }
      ]
    },
    {
      "cell_type": "markdown",
      "source": [
        "Now that we have installed all the necessary dependencies in Colab, it is time to set the environment path. This will enable us to run Pyspark in the Colab environment."
      ],
      "metadata": {
        "id": "hEza4tedUQF-"
      }
    },
    {
      "cell_type": "code",
      "source": [
        "import pyspark\n",
        "import numpy as np\n",
        "import pandas as pd"
      ],
      "metadata": {
        "id": "fLyh_0FZUQ8E"
      },
      "execution_count": 5,
      "outputs": []
    },
    {
      "cell_type": "markdown",
      "source": [
        "# Problem description\n",
        "In this exercise, we will develop two classifiers to perform a binary classification task - The objective is to predict the big or small buyers in the Flamingo dataset (label 1) or not (label 0)."
      ],
      "metadata": {
        "id": "9YNTgGR0WcCx"
      }
    },
    {
      "cell_type": "markdown",
      "source": [
        "Data Preparation\n",
        "Removing columns and rows\n",
        "Import needed dataset from github\n"
      ],
      "metadata": {
        "id": "X9YTaJJxXwFI"
      }
    },
    {
      "cell_type": "code",
      "source": [
        "from pyspark.sql import SparkSession\n",
        "\n",
        "spark = SparkSession.builder.master('local[*]').appName('Teams').getOrCreate()\n",
        "\n",
        "# Read data from CSV file\n",
        "#you can download it from here: https://raw.githubusercontent.com/besherh/BigDataManagement/main/SparkCSV/flights-larger.csv\n",
        "df = spark.read.csv('combined-data.csv', sep=',', header=True, inferSchema=True, nullValue='NULL')\n",
        "#df = pd.read_csv(\"combined-data.csv\")\n",
        "\n"
      ],
      "metadata": {
        "id": "m6IJcZCNYKzL"
      },
      "execution_count": 7,
      "outputs": []
    },
    {
      "cell_type": "markdown",
      "source": [
        ""
      ],
      "metadata": {
        "id": "N9QPDc0gKn_R"
      }
    },
    {
      "cell_type": "code",
      "source": [
        "#View table structure\n",
        "df.printSchema()"
      ],
      "metadata": {
        "colab": {
          "base_uri": "https://localhost:8080/"
        },
        "id": "XU2LTfzmYza0",
        "outputId": "f0ff9296-2b78-4795-a098-c87fea0113b1"
      },
      "execution_count": 8,
      "outputs": [
        {
          "output_type": "stream",
          "name": "stdout",
          "text": [
            "root\n",
            " |-- userId: integer (nullable = true)\n",
            " |-- userSessionId: integer (nullable = true)\n",
            " |-- teamLevel: integer (nullable = true)\n",
            " |-- platformType: string (nullable = true)\n",
            " |-- count_gameclicks: integer (nullable = true)\n",
            " |-- count_hits: integer (nullable = true)\n",
            " |-- count_buyId: integer (nullable = true)\n",
            " |-- avg_price: double (nullable = true)\n",
            "\n"
          ]
        }
      ]
    },
    {
      "cell_type": "code",
      "source": [
        "#Total number of records\n",
        "df.count()\n"
      ],
      "metadata": {
        "colab": {
          "base_uri": "https://localhost:8080/"
        },
        "id": "dYYEltqHY7PV",
        "outputId": "675a412c-3c80-4951-b059-25223b9f8e14"
      },
      "execution_count": 9,
      "outputs": [
        {
          "output_type": "execute_result",
          "data": {
            "text/plain": [
              "4619"
            ]
          },
          "metadata": {},
          "execution_count": 9
        }
      ]
    },
    {
      "cell_type": "code",
      "source": [
        "# Find Count of Null, None, NaN of All DataFrame Columns\n",
        "from pyspark.sql.functions import col,isnan, when, count"
      ],
      "metadata": {
        "id": "ILk4cbVXrBDi"
      },
      "execution_count": 10,
      "outputs": []
    },
    {
      "cell_type": "code",
      "source": [
        "#Check for missing values\n",
        "#\n",
        "df.na.drop().count()\n"
      ],
      "metadata": {
        "colab": {
          "base_uri": "https://localhost:8080/"
        },
        "id": "ksnPChNnqaRD",
        "outputId": "21822d23-0f95-4792-c8bc-0f97f20d5140"
      },
      "execution_count": 11,
      "outputs": [
        {
          "output_type": "execute_result",
          "data": {
            "text/plain": [
              "1411"
            ]
          },
          "metadata": {},
          "execution_count": 11
        }
      ]
    },
    {
      "cell_type": "code",
      "source": [
        ""
      ],
      "metadata": {
        "id": "5CuiVbqQM8gw"
      },
      "execution_count": null,
      "outputs": []
    },
    {
      "cell_type": "code",
      "source": [
        "df.na.drop(how=\"any\", thresh=2).show()"
      ],
      "metadata": {
        "colab": {
          "base_uri": "https://localhost:8080/"
        },
        "id": "PuTbFWAjMrAv",
        "outputId": "8807d687-3019-447d-b1c5-cab068c04b2b"
      },
      "execution_count": 12,
      "outputs": [
        {
          "output_type": "stream",
          "name": "stdout",
          "text": [
            "+------+-------------+---------+------------+----------------+----------+-----------+---------+\n",
            "|userId|userSessionId|teamLevel|platformType|count_gameclicks|count_hits|count_buyId|avg_price|\n",
            "+------+-------------+---------+------------+----------------+----------+-----------+---------+\n",
            "|   812|         5648|        1|     android|              69|         8|       null|     null|\n",
            "|  1658|         5649|        1|      iphone|              31|         5|       null|     null|\n",
            "|  1589|         5650|        1|      iphone|              26|         2|       null|     null|\n",
            "|  1863|         5651|        1|     android|              35|         4|       null|     null|\n",
            "|   937|         5652|        1|     android|              39|         0|          1|      1.0|\n",
            "|   342|         5653|        1|     android|              36|         5|       null|     null|\n",
            "|   849|         5654|        1|      iphone|              40|         5|       null|     null|\n",
            "|  1277|         5655|        1|     windows|              46|         8|       null|     null|\n",
            "|  2203|         5656|        1|     android|              68|         6|       null|     null|\n",
            "|   585|         5657|        1|      iphone|              76|         9|       null|     null|\n",
            "|  1370|         5658|        1|      iphone|              69|         6|       null|     null|\n",
            "|  1623|         5659|        1|      iphone|             129|         9|          1|     10.0|\n",
            "|   881|         5660|        1|      iphone|              36|         6|       null|     null|\n",
            "|    83|         5661|        1|     android|             102|        14|          1|      5.0|\n",
            "|   453|         5662|        1|     android|             102|         7|       null|     null|\n",
            "|  1966|         5663|        1|      iphone|              63|         8|       null|     null|\n",
            "|  1073|         5664|        1|     android|             141|        21|       null|     null|\n",
            "|   121|         5665|        1|     android|              39|         4|          1|      3.0|\n",
            "|   462|         5666|        1|     android|              90|        10|          1|      3.0|\n",
            "|   708|         5667|        1|      iphone|              32|         2|       null|     null|\n",
            "+------+-------------+---------+------------+----------------+----------+-----------+---------+\n",
            "only showing top 20 rows\n",
            "\n"
          ]
        }
      ]
    },
    {
      "cell_type": "markdown",
      "source": [
        "Fill missing values with mean of column\n"
      ],
      "metadata": {
        "id": "aSVrt8Pzb2ST"
      }
    },
    {
      "cell_type": "code",
      "source": [
        "from pyspark.ml.feature import Imputer\n",
        "\n",
        "imputer = Imputer(\n",
        "    inputCols=['count_buyId', 'avg_price'], \n",
        "    outputCols=[\"{}_assigned\".format(c) for c in ['count_buyId', 'avg_price']]\n",
        "    ).setStrategy(\"mean\")"
      ],
      "metadata": {
        "id": "bU5BCKn1NhN_"
      },
      "execution_count": 13,
      "outputs": []
    },
    {
      "cell_type": "code",
      "source": [
        "# Add imputation cols to df\n",
        "df2 = imputer.fit(df).transform(df)"
      ],
      "metadata": {
        "id": "Lqk0mRLVOEFW"
      },
      "execution_count": 14,
      "outputs": []
    },
    {
      "cell_type": "code",
      "source": [
        "df2.show()"
      ],
      "metadata": {
        "colab": {
          "base_uri": "https://localhost:8080/"
        },
        "id": "vxKKAFN7Oc8M",
        "outputId": "c0e5a487-f0c2-41a9-9c48-8b254637e59b"
      },
      "execution_count": 15,
      "outputs": [
        {
          "output_type": "stream",
          "name": "stdout",
          "text": [
            "+------+-------------+---------+------------+----------------+----------+-----------+---------+--------------------+------------------+\n",
            "|userId|userSessionId|teamLevel|platformType|count_gameclicks|count_hits|count_buyId|avg_price|count_buyId_assigned|avg_price_assigned|\n",
            "+------+-------------+---------+------------+----------------+----------+-----------+---------+--------------------+------------------+\n",
            "|   812|         5648|        1|     android|              69|         8|       null|     null|                   1| 7.214323175053155|\n",
            "|  1658|         5649|        1|      iphone|              31|         5|       null|     null|                   1| 7.214323175053155|\n",
            "|  1589|         5650|        1|      iphone|              26|         2|       null|     null|                   1| 7.214323175053155|\n",
            "|  1863|         5651|        1|     android|              35|         4|       null|     null|                   1| 7.214323175053155|\n",
            "|   937|         5652|        1|     android|              39|         0|          1|      1.0|                   1|               1.0|\n",
            "|   342|         5653|        1|     android|              36|         5|       null|     null|                   1| 7.214323175053155|\n",
            "|   849|         5654|        1|      iphone|              40|         5|       null|     null|                   1| 7.214323175053155|\n",
            "|  1277|         5655|        1|     windows|              46|         8|       null|     null|                   1| 7.214323175053155|\n",
            "|  2203|         5656|        1|     android|              68|         6|       null|     null|                   1| 7.214323175053155|\n",
            "|   585|         5657|        1|      iphone|              76|         9|       null|     null|                   1| 7.214323175053155|\n",
            "|  1370|         5658|        1|      iphone|              69|         6|       null|     null|                   1| 7.214323175053155|\n",
            "|  1623|         5659|        1|      iphone|             129|         9|          1|     10.0|                   1|              10.0|\n",
            "|   881|         5660|        1|      iphone|              36|         6|       null|     null|                   1| 7.214323175053155|\n",
            "|    83|         5661|        1|     android|             102|        14|          1|      5.0|                   1|               5.0|\n",
            "|   453|         5662|        1|     android|             102|         7|       null|     null|                   1| 7.214323175053155|\n",
            "|  1966|         5663|        1|      iphone|              63|         8|       null|     null|                   1| 7.214323175053155|\n",
            "|  1073|         5664|        1|     android|             141|        21|       null|     null|                   1| 7.214323175053155|\n",
            "|   121|         5665|        1|     android|              39|         4|          1|      3.0|                   1|               3.0|\n",
            "|   462|         5666|        1|     android|              90|        10|          1|      3.0|                   1|               3.0|\n",
            "|   708|         5667|        1|      iphone|              32|         2|       null|     null|                   1| 7.214323175053155|\n",
            "+------+-------------+---------+------------+----------------+----------+-----------+---------+--------------------+------------------+\n",
            "only showing top 20 rows\n",
            "\n"
          ]
        }
      ]
    },
    {
      "cell_type": "code",
      "source": [
        "df2.printSchema()"
      ],
      "metadata": {
        "colab": {
          "base_uri": "https://localhost:8080/"
        },
        "id": "AX1FODyQQKXO",
        "outputId": "5c21056d-b8f0-45a9-ab72-5e3261e24078"
      },
      "execution_count": 16,
      "outputs": [
        {
          "output_type": "stream",
          "name": "stdout",
          "text": [
            "root\n",
            " |-- userId: integer (nullable = true)\n",
            " |-- userSessionId: integer (nullable = true)\n",
            " |-- teamLevel: integer (nullable = true)\n",
            " |-- platformType: string (nullable = true)\n",
            " |-- count_gameclicks: integer (nullable = true)\n",
            " |-- count_hits: integer (nullable = true)\n",
            " |-- count_buyId: integer (nullable = true)\n",
            " |-- avg_price: double (nullable = true)\n",
            " |-- count_buyId_assigned: integer (nullable = true)\n",
            " |-- avg_price_assigned: double (nullable = true)\n",
            "\n"
          ]
        }
      ]
    },
    {
      "cell_type": "code",
      "source": [
        "#Create label whether user is a big buyer or small \n",
        "\n",
        "df_players = df2.withColumn('label', (df2.avg_price_assigned >=4).cast('integer'))\n"
      ],
      "metadata": {
        "id": "Edlh1ggDPInl"
      },
      "execution_count": 18,
      "outputs": []
    },
    {
      "cell_type": "code",
      "source": [
        "df_players.show(5)"
      ],
      "metadata": {
        "colab": {
          "base_uri": "https://localhost:8080/"
        },
        "id": "hMVKNGvJQt7G",
        "outputId": "9fc9310e-6304-4cce-cbaf-3a9c8fd3e3dd"
      },
      "execution_count": null,
      "outputs": [
        {
          "output_type": "stream",
          "name": "stdout",
          "text": [
            "+------+-------------+---------+------------+----------------+----------+-----------+---------+-------------------+-----------------+-----+\n",
            "|userId|userSessionId|teamLevel|platformType|count_gameclicks|count_hits|count_buyId|avg_price|count_buyId_imputed|avg_price_imputed|label|\n",
            "+------+-------------+---------+------------+----------------+----------+-----------+---------+-------------------+-----------------+-----+\n",
            "|   812|         5648|        1|     android|              69|         8|       null|     null|                  1|7.214323175053155|    1|\n",
            "|  1658|         5649|        1|      iphone|              31|         5|       null|     null|                  1|7.214323175053155|    1|\n",
            "|  1589|         5650|        1|      iphone|              26|         2|       null|     null|                  1|7.214323175053155|    1|\n",
            "|  1863|         5651|        1|     android|              35|         4|       null|     null|                  1|7.214323175053155|    1|\n",
            "|   937|         5652|        1|     android|              39|         0|          1|      1.0|                  1|              1.0|    0|\n",
            "+------+-------------+---------+------------+----------------+----------+-----------+---------+-------------------+-----------------+-----+\n",
            "only showing top 5 rows\n",
            "\n"
          ]
        }
      ]
    },
    {
      "cell_type": "code",
      "source": [
        "dfplayers = df_players.select(['teamLevel','platformType','count_gameclicks','count_hits','count_buyId_assigned','avg_price_assigned','label']).show()"
      ],
      "metadata": {
        "id": "VOenpp2hSSSG",
        "outputId": "ab88104a-fd76-4e72-858a-30e97e20bf92",
        "colab": {
          "base_uri": "https://localhost:8080/"
        }
      },
      "execution_count": 19,
      "outputs": [
        {
          "output_type": "stream",
          "name": "stdout",
          "text": [
            "+---------+------------+----------------+----------+--------------------+------------------+-----+\n",
            "|teamLevel|platformType|count_gameclicks|count_hits|count_buyId_assigned|avg_price_assigned|label|\n",
            "+---------+------------+----------------+----------+--------------------+------------------+-----+\n",
            "|        1|     android|              69|         8|                   1| 7.214323175053155|    1|\n",
            "|        1|      iphone|              31|         5|                   1| 7.214323175053155|    1|\n",
            "|        1|      iphone|              26|         2|                   1| 7.214323175053155|    1|\n",
            "|        1|     android|              35|         4|                   1| 7.214323175053155|    1|\n",
            "|        1|     android|              39|         0|                   1|               1.0|    0|\n",
            "|        1|     android|              36|         5|                   1| 7.214323175053155|    1|\n",
            "|        1|      iphone|              40|         5|                   1| 7.214323175053155|    1|\n",
            "|        1|     windows|              46|         8|                   1| 7.214323175053155|    1|\n",
            "|        1|     android|              68|         6|                   1| 7.214323175053155|    1|\n",
            "|        1|      iphone|              76|         9|                   1| 7.214323175053155|    1|\n",
            "|        1|      iphone|              69|         6|                   1| 7.214323175053155|    1|\n",
            "|        1|      iphone|             129|         9|                   1|              10.0|    1|\n",
            "|        1|      iphone|              36|         6|                   1| 7.214323175053155|    1|\n",
            "|        1|     android|             102|        14|                   1|               5.0|    1|\n",
            "|        1|     android|             102|         7|                   1| 7.214323175053155|    1|\n",
            "|        1|      iphone|              63|         8|                   1| 7.214323175053155|    1|\n",
            "|        1|     android|             141|        21|                   1| 7.214323175053155|    1|\n",
            "|        1|     android|              39|         4|                   1|               3.0|    0|\n",
            "|        1|     android|              90|        10|                   1|               3.0|    0|\n",
            "|        1|      iphone|              32|         2|                   1| 7.214323175053155|    1|\n",
            "+---------+------------+----------------+----------+--------------------+------------------+-----+\n",
            "only showing top 20 rows\n",
            "\n"
          ]
        }
      ]
    },
    {
      "cell_type": "code",
      "source": [
        "df_players.show(5)"
      ],
      "metadata": {
        "id": "MGQ8qROAVkYk",
        "outputId": "9287881e-3b7b-49cc-b7dd-c8c997e16e45",
        "colab": {
          "base_uri": "https://localhost:8080/"
        }
      },
      "execution_count": 21,
      "outputs": [
        {
          "output_type": "stream",
          "name": "stdout",
          "text": [
            "+------+-------------+---------+------------+----------------+----------+-----------+---------+--------------------+------------------+-----+\n",
            "|userId|userSessionId|teamLevel|platformType|count_gameclicks|count_hits|count_buyId|avg_price|count_buyId_assigned|avg_price_assigned|label|\n",
            "+------+-------------+---------+------------+----------------+----------+-----------+---------+--------------------+------------------+-----+\n",
            "|   812|         5648|        1|     android|              69|         8|       null|     null|                   1| 7.214323175053155|    1|\n",
            "|  1658|         5649|        1|      iphone|              31|         5|       null|     null|                   1| 7.214323175053155|    1|\n",
            "|  1589|         5650|        1|      iphone|              26|         2|       null|     null|                   1| 7.214323175053155|    1|\n",
            "|  1863|         5651|        1|     android|              35|         4|       null|     null|                   1| 7.214323175053155|    1|\n",
            "|   937|         5652|        1|     android|              39|         0|          1|      1.0|                   1|               1.0|    0|\n",
            "+------+-------------+---------+------------+----------------+----------+-----------+---------+--------------------+------------------+-----+\n",
            "only showing top 5 rows\n",
            "\n"
          ]
        }
      ]
    },
    {
      "cell_type": "code",
      "source": [
        "#Categorical transformation of PlatformType column to indexed numerical value\n",
        "\n",
        "from pyspark.ml.feature import StringIndexer\n",
        "\n",
        "# Create an indexer\n",
        "indexer = StringIndexer(inputCol='platformType', outputCol='platformType_idx')\n",
        "\n",
        "# Indexer identifies categories in the data\n",
        "indexer_model = indexer.fit(df_players)\n",
        "\n"
      ],
      "metadata": {
        "id": "O-B9RJcgRC9F"
      },
      "execution_count": null,
      "outputs": []
    },
    {
      "cell_type": "code",
      "source": [
        "# Indexer creates a new column with numeric index values\n",
        "platformType_idx = indexer_model.transform(df_players)\n",
        "\n",
        "# Repeat the process for the other categorical feature\n",
        "#platformType_idx = StringIndexer(inputCol='platformType', outputCol='platformType_idx').fit(df_players).transform(df_players)\n"
      ],
      "metadata": {
        "id": "hie2x4z1Rt9M"
      },
      "execution_count": null,
      "outputs": []
    },
    {
      "cell_type": "code",
      "source": [
        "df_players.columns"
      ],
      "metadata": {
        "colab": {
          "base_uri": "https://localhost:8080/"
        },
        "id": "8hlwFsEOWuD1",
        "outputId": "512cb464-31fc-49e6-e467-a16e0b678399"
      },
      "execution_count": 22,
      "outputs": [
        {
          "output_type": "execute_result",
          "data": {
            "text/plain": [
              "['userId',\n",
              " 'userSessionId',\n",
              " 'teamLevel',\n",
              " 'platformType',\n",
              " 'count_gameclicks',\n",
              " 'count_hits',\n",
              " 'count_buyId',\n",
              " 'avg_price',\n",
              " 'count_buyId_assigned',\n",
              " 'avg_price_assigned',\n",
              " 'label']"
            ]
          },
          "metadata": {},
          "execution_count": 22
        }
      ]
    },
    {
      "cell_type": "code",
      "source": [
        "#Assembling columns\n",
        "\n",
        "from pyspark.ml.feature import VectorAssembler\n",
        "\n",
        "# Create an assembler object\n",
        "assembler = VectorAssembler(inputCols=[\n",
        "    'teamLevel', 'count_gameclicks', 'count_hits',\n",
        "    'count_buyId_assigned', \n",
        "    'avg_price_assigned'\n",
        "    \n",
        "], outputCol='features')\n",
        "\n",
        "# Consolidate predictor columns\n",
        "buyers_assembled = assembler.transform(df_players)\n",
        "\n",
        "# Check the resulting column\n",
        "buyers_assembled.select('features', 'label').show(5, truncate=False)"
      ],
      "metadata": {
        "colab": {
          "base_uri": "https://localhost:8080/"
        },
        "id": "QFB54XYAWfe3",
        "outputId": "bfba7e73-a8f2-404b-dfb8-ad59190239b6"
      },
      "execution_count": 24,
      "outputs": [
        {
          "output_type": "stream",
          "name": "stdout",
          "text": [
            "+------------------------------------+-----+\n",
            "|features                            |label|\n",
            "+------------------------------------+-----+\n",
            "|[1.0,69.0,8.0,1.0,7.214323175053155]|1    |\n",
            "|[1.0,31.0,5.0,1.0,7.214323175053155]|1    |\n",
            "|[1.0,26.0,2.0,1.0,7.214323175053155]|1    |\n",
            "|[1.0,35.0,4.0,1.0,7.214323175053155]|1    |\n",
            "|[1.0,39.0,0.0,1.0,1.0]              |0    |\n",
            "+------------------------------------+-----+\n",
            "only showing top 5 rows\n",
            "\n"
          ]
        }
      ]
    },
    {
      "cell_type": "code",
      "source": [
        "buyers_assembled.show(2)"
      ],
      "metadata": {
        "id": "GqLZI20MpoOd",
        "outputId": "f184713a-5f9d-4e47-c35f-88045167d52c",
        "colab": {
          "base_uri": "https://localhost:8080/"
        }
      },
      "execution_count": 25,
      "outputs": [
        {
          "output_type": "stream",
          "name": "stdout",
          "text": [
            "+------+-------------+---------+------------+----------------+----------+-----------+---------+--------------------+------------------+-----+--------------------+\n",
            "|userId|userSessionId|teamLevel|platformType|count_gameclicks|count_hits|count_buyId|avg_price|count_buyId_assigned|avg_price_assigned|label|            features|\n",
            "+------+-------------+---------+------------+----------------+----------+-----------+---------+--------------------+------------------+-----+--------------------+\n",
            "|   812|         5648|        1|     android|              69|         8|       null|     null|                   1| 7.214323175053155|    1|[1.0,69.0,8.0,1.0...|\n",
            "|  1658|         5649|        1|      iphone|              31|         5|       null|     null|                   1| 7.214323175053155|    1|[1.0,31.0,5.0,1.0...|\n",
            "+------+-------------+---------+------------+----------------+----------+-----------+---------+--------------------+------------------+-----+--------------------+\n",
            "only showing top 2 rows\n",
            "\n"
          ]
        }
      ]
    },
    {
      "cell_type": "markdown",
      "source": [
        "# **Logistic regression**\n",
        "Train/test split\n",
        "To objectively assess a Machine Learning model you need to be able to test it on an independent set of data. You can't use the same data that you used to train the model: of course the model will perform (relatively) well on those data!\n",
        "\n",
        "You will split the data into two components:\n",
        "\n",
        "training data (used to train the model) and\n",
        "testing data (used to test the model)."
      ],
      "metadata": {
        "id": "uKyUc5vBYCZ5"
      }
    },
    {
      "cell_type": "code",
      "source": [
        "# Split into training and test sets in a 80:20 ratio\n",
        "buyers_train, buyers_test = buyers_assembled.randomSplit([0.7, 0.3], seed=17)\n",
        "\n",
        "# Check that training set has around 80% of records\n",
        "training_ratio = buyers_train.count() / buyers_assembled.count()\n",
        "print(training_ratio)"
      ],
      "metadata": {
        "colab": {
          "base_uri": "https://localhost:8080/"
        },
        "id": "vj_yTguuZI1j",
        "outputId": "4ebfd583-a3c8-4620-978a-fd6acb9ef268"
      },
      "execution_count": 26,
      "outputs": [
        {
          "output_type": "stream",
          "name": "stdout",
          "text": [
            "0.6958216064083135\n"
          ]
        }
      ]
    },
    {
      "cell_type": "code",
      "source": [
        "buyers_test.show"
      ],
      "metadata": {
        "colab": {
          "base_uri": "https://localhost:8080/"
        },
        "id": "9jDH1xnhZoN-",
        "outputId": "46abf570-e9a6-42c8-c1ff-0879a803c587"
      },
      "execution_count": 27,
      "outputs": [
        {
          "output_type": "execute_result",
          "data": {
            "text/plain": [
              "<bound method DataFrame.show of DataFrame[userId: int, userSessionId: int, teamLevel: int, platformType: string, count_gameclicks: int, count_hits: int, count_buyId: int, avg_price: double, count_buyId_assigned: int, avg_price_assigned: double, label: int, features: vector]>"
            ]
          },
          "metadata": {},
          "execution_count": 27
        }
      ]
    },
    {
      "cell_type": "markdown",
      "source": [
        "\n",
        "Build a Logistic Regression model\n",
        "You've already built a Decision Tree model using the Team Buyers data. Now you're going to create a Logistic Regression model on the same data."
      ],
      "metadata": {
        "id": "E-uv2vRxdMbE"
      }
    },
    {
      "cell_type": "code",
      "source": [
        "buyers_train.columns"
      ],
      "metadata": {
        "colab": {
          "base_uri": "https://localhost:8080/"
        },
        "id": "S5Ym8OwsdrY2",
        "outputId": "f179cfff-fdc1-4808-8889-7c394b1d896c"
      },
      "execution_count": 31,
      "outputs": [
        {
          "output_type": "execute_result",
          "data": {
            "text/plain": [
              "['userId',\n",
              " 'userSessionId',\n",
              " 'teamLevel',\n",
              " 'platformType',\n",
              " 'count_gameclicks',\n",
              " 'count_hits',\n",
              " 'count_buyId',\n",
              " 'avg_price',\n",
              " 'count_buyId_assigned',\n",
              " 'avg_price_assigned',\n",
              " 'label',\n",
              " 'features']"
            ]
          },
          "metadata": {},
          "execution_count": 31
        }
      ]
    },
    {
      "cell_type": "code",
      "source": [
        "from pyspark.ml.classification import LogisticRegression\n",
        "\n",
        "# Selecting numeric columns\n",
        "buyers_train_num = buyers_train.select(\"teamLevel\", 'count_gameclicks', 'count_hits','count_buyId_assigned','avg_price_assigned', 'features', 'label')\n",
        "buyers_test_num = buyers_test.select(\"teamLevel\", 'count_gameclicks', 'count_hits','count_buyId_assigned','avg_price_assigned', 'features', 'label')\n",
        "\n",
        "# Create classifier object and train on training data\n",
        "logistic = LogisticRegression().fit(buyers_train_num)\n",
        "\n",
        "# Create a predictions for the test data and show confusion matrix\n",
        "prediction = logistic.transform(buyers_test_num)\n",
        "prediction.groupBy(\"label\", \"prediction\").count().show()"
      ],
      "metadata": {
        "colab": {
          "base_uri": "https://localhost:8080/"
        },
        "id": "SheFoTr1dS3M",
        "outputId": "7413f9f5-0eef-436d-e98e-b2de2daaa9ac"
      },
      "execution_count": 33,
      "outputs": [
        {
          "output_type": "stream",
          "name": "stdout",
          "text": [
            "+-----+----------+-----+\n",
            "|label|prediction|count|\n",
            "+-----+----------+-----+\n",
            "|    0|       0.0|  228|\n",
            "|    1|       1.0| 1177|\n",
            "+-----+----------+-----+\n",
            "\n"
          ]
        }
      ]
    },
    {
      "cell_type": "markdown",
      "source": [
        "# Evaluate the Logistic Regression model\n",
        "Accuracy is generally not a very reliable metric because it can be biased by the most common target class.\n",
        "\n",
        "There are two other useful metrics:\n",
        "\n",
        "# precision and recall.\n",
        "Precision is the proportion of positive predictions which are correct. For all buyers which are predicted to be big , what proportion is actually big or small?\n",
        "\n",
        "Recall is the proportion of positives outcomes which are correctly predicted. For all big buyers, what proportion is correctly predicted by the model?\n",
        "\n",
        "The precision and recall are generally formulated in terms of the positive target class. But it's also possible to calculate weighted versions of these metrics which look at both"
      ],
      "metadata": {
        "id": "PFCZQ46OfFf2"
      }
    },
    {
      "cell_type": "code",
      "source": [
        "# Calculate the elements of the confusion matrix\n",
        "TN = prediction.filter('prediction = 0 AND label = prediction').count()\n",
        "TP = prediction.filter('prediction = 1 AND label = prediction').count()\n",
        "FN = prediction.filter('prediction = 0 AND label = 1').count()\n",
        "FP = prediction.filter('prediction = 1 AND label = 0').count()"
      ],
      "metadata": {
        "id": "ADidyZEJfb3u"
      },
      "execution_count": 34,
      "outputs": []
    },
    {
      "cell_type": "code",
      "source": [
        "from pyspark.ml.evaluation import MulticlassClassificationEvaluator, BinaryClassificationEvaluator\n",
        "\n",
        "# Calculate precision and recall\n",
        "precision = TP / (TP + FP)\n",
        "recall = TP / (TP + FN)\n",
        "print('precision = {:.2f}\\nrecall   = {:.2f}'.format(precision, recall))\n",
        "\n",
        "# Find weighted precision\n",
        "multi_evaluator = MulticlassClassificationEvaluator()\n",
        "weighted_precision = multi_evaluator.evaluate(prediction, {multi_evaluator.metricName: \"weightedPrecision\"})\n",
        "\n",
        "# Find AUC\n",
        "binary_evaluator = BinaryClassificationEvaluator()\n",
        "auc = binary_evaluator.evaluate(prediction, {binary_evaluator.metricName: \"areaUnderROC\"})"
      ],
      "metadata": {
        "colab": {
          "base_uri": "https://localhost:8080/"
        },
        "id": "vM0nWR-_fh-n",
        "outputId": "720f2e0e-25c5-47f8-abec-c2e62a15e8b5"
      },
      "execution_count": 35,
      "outputs": [
        {
          "output_type": "stream",
          "name": "stdout",
          "text": [
            "precision = 1.00\n",
            "recall   = 1.00\n"
          ]
        }
      ]
    }
  ]
}